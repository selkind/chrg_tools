{
 "cells": [
  {
   "cell_type": "code",
   "execution_count": 1,
   "id": "dacb15ad-b42d-4a6a-85c5-3fa541386543",
   "metadata": {},
   "outputs": [],
   "source": [
    "from hearings_lib.api_client import APIClient\n",
    "from hearings_lib.hearings.load_project_env import ProjectEnv\n",
    "import pickle\n",
    "import os"
   ]
  },
  {
   "cell_type": "code",
   "execution_count": 2,
   "id": "632b6eb0-8747-4dea-a5ce-0dabbd727ab6",
   "metadata": {},
   "outputs": [],
   "source": [
    "test_congress = 113\n",
    "ProjectEnv.load_env()"
   ]
  },
  {
   "cell_type": "code",
   "execution_count": 3,
   "id": "387dc133-d408-44ea-9d88-57d64240f7f9",
   "metadata": {},
   "outputs": [],
   "source": [
    "client = APIClient(api_key=os.getenv('GPO_API_KEY'))"
   ]
  },
  {
   "cell_type": "code",
   "execution_count": 4,
   "id": "7ddc5153-c78a-499c-aa95-3bcef83dacdf",
   "metadata": {},
   "outputs": [],
   "source": [
    "package_ids = client.get_package_ids_by_congress(test_congress)"
   ]
  },
  {
   "cell_type": "code",
   "execution_count": 5,
   "id": "06b20ae3-cdf6-42cc-855c-431c226d3de9",
   "metadata": {},
   "outputs": [],
   "source": [
    "package_summaries = client.get_package_summaries(packages=package_ids)"
   ]
  },
  {
   "cell_type": "code",
   "execution_count": 12,
   "id": "3eab9211-3fb6-42b1-adfa-536bfc4da362",
   "metadata": {},
   "outputs": [
    {
     "name": "stdout",
     "output_type": "stream",
     "text": [
      "<class 'hearings_lib.summary_parsing_types.ParsedSummary'>\n"
     ]
    }
   ],
   "source": [
    "print(type(package_summaries[0]))"
   ]
  },
  {
   "cell_type": "code",
   "execution_count": 13,
   "id": "86710544-9fc0-4a85-b336-542f55829e94",
   "metadata": {},
   "outputs": [],
   "source": [
    "output = pickle.dumps(package_summaries)"
   ]
  },
  {
   "cell_type": "code",
   "execution_count": 15,
   "id": "dbc6f500-a77a-4c43-a281-1453965f1bbd",
   "metadata": {},
   "outputs": [],
   "source": [
    "with open('tests/summary_package_sample.pickle', 'wb') as f:\n",
    "    f.write(output)"
   ]
  },
  {
   "cell_type": "code",
   "execution_count": 16,
   "id": "a093f083-d0d0-4ec2-a1b9-efdfc73b5cd0",
   "metadata": {},
   "outputs": [],
   "source": [
    "with open('tests/summary_package_sample.pickle', 'rb') as f:\n",
    "    test = pickle.load(f)"
   ]
  },
  {
   "cell_type": "code",
   "execution_count": 20,
   "id": "becdb0ec-4958-400a-8dab-221cfc83cdca",
   "metadata": {},
   "outputs": [],
   "source": [
    "assert test == package_summaries"
   ]
  }
 ],
 "metadata": {
  "kernelspec": {
   "display_name": "Python 3",
   "language": "python",
   "name": "python3"
  },
  "language_info": {
   "codemirror_mode": {
    "name": "ipython",
    "version": 3
   },
   "file_extension": ".py",
   "mimetype": "text/x-python",
   "name": "python",
   "nbconvert_exporter": "python",
   "pygments_lexer": "ipython3",
   "version": "3.8.5"
  }
 },
 "nbformat": 4,
 "nbformat_minor": 5
}
