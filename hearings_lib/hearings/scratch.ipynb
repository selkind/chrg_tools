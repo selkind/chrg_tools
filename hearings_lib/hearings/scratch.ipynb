{
 "cells": [
  {
   "cell_type": "code",
   "execution_count": 5,
   "id": "medical-trinidad",
   "metadata": {},
   "outputs": [
    {
     "ename": "ImportError",
     "evalue": "attempted relative import with no known parent package",
     "output_type": "error",
     "traceback": [
      "\u001b[0;31m---------------------------------------------------------------------------\u001b[0m",
      "\u001b[0;31mImportError\u001b[0m                               Traceback (most recent call last)",
      "\u001b[0;32m<ipython-input-5-0a8c477a1cc3>\u001b[0m in \u001b[0;36m<module>\u001b[0;34m\u001b[0m\n\u001b[1;32m      2\u001b[0m \u001b[0;32mimport\u001b[0m \u001b[0mtoml\u001b[0m\u001b[0;34m\u001b[0m\u001b[0;34m\u001b[0m\u001b[0m\n\u001b[1;32m      3\u001b[0m \u001b[0;32mfrom\u001b[0m \u001b[0mdotenv\u001b[0m \u001b[0;32mimport\u001b[0m \u001b[0mload_dotenv\u001b[0m\u001b[0;34m\u001b[0m\u001b[0;34m\u001b[0m\u001b[0m\n\u001b[0;32m----> 4\u001b[0;31m \u001b[0;32mfrom\u001b[0m \u001b[0;34m.\u001b[0m\u001b[0;34m.\u001b[0m\u001b[0mgpo_tools\u001b[0m\u001b[0;34m.\u001b[0m\u001b[0mparse\u001b[0m \u001b[0;32mimport\u001b[0m \u001b[0mParser\u001b[0m\u001b[0;34m\u001b[0m\u001b[0;34m\u001b[0m\u001b[0m\n\u001b[0m\u001b[1;32m      5\u001b[0m \u001b[0;34m\u001b[0m\u001b[0m\n\u001b[1;32m      6\u001b[0m \u001b[0;34m\u001b[0m\u001b[0m\n",
      "\u001b[0;31mImportError\u001b[0m: attempted relative import with no known parent package"
     ]
    }
   ],
   "source": [
    "import os\n",
    "import toml\n",
    "from dotenv import load_dotenv\n",
    "from ..gpo_tools.parse import Parser\n",
    "\n",
    "\n",
    "env_path = os.path.join(os.path.abspath(''), '.env')\n",
    "load_dotenv(env_path)\n",
    "\n",
    "\n",
    "config = toml.load(os.path.join(os.path.abspath(''), 'config.toml'))\n",
    "db_config = config['database']\n",
    "\n",
    "parser = Parser(db=db_config['name'], user=db_config['user'], password=os.getenv('DB_POSTGRES_PW'), host=db_config['host'])"
   ]
  },
  {
   "cell_type": "code",
   "execution_count": null,
   "id": "backed-despite",
   "metadata": {},
   "outputs": [],
   "source": [
    "print(len(parser.id_values))"
   ]
  },
  {
   "cell_type": "code",
   "execution_count": null,
   "id": "crucial-technician",
   "metadata": {},
   "outputs": [],
   "source": [
    "parser.parse_gpo_hearings()"
   ]
  },
  {
   "cell_type": "code",
   "execution_count": null,
   "id": "single-awareness",
   "metadata": {},
   "outputs": [],
   "source": []
  }
 ],
 "metadata": {
  "kernelspec": {
   "display_name": "Python 3",
   "language": "python",
   "name": "python3"
  },
  "language_info": {
   "codemirror_mode": {
    "name": "ipython",
    "version": 3
   },
   "file_extension": ".py",
   "mimetype": "text/x-python",
   "name": "python",
   "nbconvert_exporter": "python",
   "pygments_lexer": "ipython3",
   "version": "3.8.5"
  }
 },
 "nbformat": 4,
 "nbformat_minor": 5
}
